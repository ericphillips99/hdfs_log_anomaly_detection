{
 "cells": [
  {
   "cell_type": "code",
   "execution_count": 4,
   "id": "879b2e1c",
   "metadata": {},
   "outputs": [],
   "source": [
    "from logparser.logparser import IPLoM"
   ]
  },
  {
   "cell_type": "code",
   "execution_count": 5,
   "id": "c964895c",
   "metadata": {},
   "outputs": [
    {
     "data": {
      "text/plain": [
       "True"
      ]
     },
     "execution_count": 5,
     "metadata": {},
     "output_type": "execute_result"
    }
   ],
   "source": [
    "import os\n",
    "os.path.exists('logs/HDFS.log')"
   ]
  },
  {
   "cell_type": "code",
   "execution_count": 6,
   "id": "47d26c45",
   "metadata": {},
   "outputs": [],
   "source": [
    "# Define parameters\n",
    "input_dir = 'logs/' # The input directory of log file\n",
    "output_dir = 'parsed_logs/'  # The output directory of parsing results\n",
    "log_file = 'HDFS.log'  # The input log file name\n",
    "log_format = '<Date> <Time> <Pid> <Level> <Component>: <Content>'  # HDFS log format\n",
    "maxEventLen = 120  # The maximal token number of log messages (default: 200)\n",
    "step2Support = 0  # The minimal support for creating a new partition (default: 0)\n",
    "CT = 0.35  # The cluster goodness threshold (default: 0.35)\n",
    "lowerBound = 0.25  # The lower bound distance (default: 0.25)\n",
    "upperBound = 0.9  # The upper bound distance (default: 0.9)\n",
    "regex = []  # Regular expression list for optional preprocessing (default: [])"
   ]
  },
  {
   "cell_type": "code",
   "execution_count": 7,
   "id": "867a5b5f",
   "metadata": {},
   "outputs": [
    {
     "name": "stdout",
     "output_type": "stream",
     "text": [
      "Parsing file: logs/HDFS.log\n",
      "Parsing done. [Time taken: 1:16:49.086810]\n"
     ]
    }
   ],
   "source": [
    "log_parser=IPLoM.LogParser(log_format=log_format, indir=input_dir, outdir=output_dir,\n",
    "                         maxEventLen=maxEventLen, step2Support=step2Support, CT=CT,\n",
    "                         lowerBound=lowerBound, upperBound=upperBound, rex=regex)\n",
    "log_parser.parse(log_file)"
   ]
  },
  {
   "cell_type": "code",
   "execution_count": null,
   "id": "6f405b63",
   "metadata": {},
   "outputs": [],
   "source": []
  }
 ],
 "metadata": {
  "kernelspec": {
   "display_name": "Python 3",
   "language": "python",
   "name": "python3"
  },
  "language_info": {
   "codemirror_mode": {
    "name": "ipython",
    "version": 3
   },
   "file_extension": ".py",
   "mimetype": "text/x-python",
   "name": "python",
   "nbconvert_exporter": "python",
   "pygments_lexer": "ipython3",
   "version": "3.9.1"
  }
 },
 "nbformat": 4,
 "nbformat_minor": 5
}
