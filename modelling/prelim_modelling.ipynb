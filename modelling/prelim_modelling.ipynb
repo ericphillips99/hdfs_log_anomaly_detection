{
 "cells": [
  {
   "cell_type": "code",
   "execution_count": 8,
   "metadata": {},
   "outputs": [],
   "source": [
    "import pandas as pd\n",
    "import numpy as np\n",
    "from sklearn import preprocessing\n",
    "from sklearn.decomposition import PCA\n",
    "from sklearn.linear_model import LogisticRegression\n",
    "from sklearn import metrics"
   ]
  },
  {
   "cell_type": "code",
   "execution_count": 9,
   "metadata": {},
   "outputs": [],
   "source": [
    "pd.set_option('display.float_format', lambda x: '%.6f' % x)"
   ]
  },
  {
   "cell_type": "code",
   "execution_count": 10,
   "metadata": {},
   "outputs": [],
   "source": [
    "x_train=pd.read_csv('../processed_data/x_train.csv',header=None)\n",
    "y_train=pd.read_csv('../processed_data/y_train.csv',header=None)\n",
    "\n",
    "x_test=pd.read_csv('../processed_data/x_test.csv',header=None)\n",
    "y_test=pd.read_csv('../processed_data/y_test.csv',header=None)"
   ]
  },
  {
   "cell_type": "code",
   "execution_count": 11,
   "metadata": {},
   "outputs": [
    {
     "name": "stdout",
     "output_type": "stream",
     "text": [
      "Train percent anamolies: 0   2.930000\n",
      "dtype: float64%\n",
      "Test percent anamolies: 0   2.930000\n",
      "dtype: float64%\n"
     ]
    }
   ],
   "source": [
    "print('Train percent anamolies:',str(np.round(y_train.mean(),4)*100)+'%')\n",
    "print('Test percent anamolies:',str(np.round(y_test.mean(),4)*100)+'%')"
   ]
  },
  {
   "cell_type": "code",
   "execution_count": 12,
   "metadata": {},
   "outputs": [
    {
     "data": {
      "text/plain": [
       "0        0.042728\n",
       "1        0.005352\n",
       "2        0.005352\n",
       "3        0.067171\n",
       "4        0.005352\n",
       "           ...   \n",
       "402537   0.067171\n",
       "402538   0.005352\n",
       "402539   0.000753\n",
       "402540   0.005352\n",
       "402541   0.005352\n",
       "Length: 402542, dtype: float64"
      ]
     },
     "execution_count": 12,
     "metadata": {},
     "output_type": "execute_result"
    }
   ],
   "source": [
    "x_train.apply(np.mean,axis=1)"
   ]
  },
  {
   "cell_type": "code",
   "execution_count": 13,
   "metadata": {},
   "outputs": [
    {
     "data": {
      "text/plain": [
       "0        0.066931\n",
       "1        0.001403\n",
       "2        0.001403\n",
       "3        0.223166\n",
       "4        0.001403\n",
       "           ...   \n",
       "402537   0.223166\n",
       "402538   0.001403\n",
       "402539   0.000025\n",
       "402540   0.001403\n",
       "402541   0.001403\n",
       "Length: 402542, dtype: float64"
      ]
     },
     "execution_count": 13,
     "metadata": {},
     "output_type": "execute_result"
    }
   ],
   "source": [
    "x_train.apply(np.var,axis=1)"
   ]
  },
  {
   "cell_type": "code",
   "execution_count": 14,
   "metadata": {},
   "outputs": [
    {
     "name": "stdout",
     "output_type": "stream",
     "text": [
      "Train mean: 0.007518796992481141\n",
      "Test mean: -0.017431650851414026\n",
      "Train std: 0.9924812030075187\n",
      "Test std: 0.5746919839962779\n"
     ]
    }
   ],
   "source": [
    "## Perform standardization\n",
    "\n",
    "# Fit StandardScaler on training set\n",
    "scaler=preprocessing.StandardScaler().fit(x_train)\n",
    "\n",
    "# Apply standardization to train/test sets\n",
    "x_train_scaled=scaler.transform(x_train)\n",
    "x_test_scaled=scaler.transform(x_test)\n",
    "\n",
    "# Confirm that resulting data has zero mean and unit variance\n",
    "print('Train mean:',x_train_scaled.mean(axis=0).mean())\n",
    "print('Test mean:',x_test_scaled.mean(axis=0).mean())\n",
    "\n",
    "print('Train std:',x_train_scaled.std(axis=0).mean())\n",
    "print('Test std:',x_test_scaled.std(axis=0).mean())"
   ]
  },
  {
   "cell_type": "code",
   "execution_count": 15,
   "metadata": {},
   "outputs": [],
   "source": [
    "# Reshape y datasets\n",
    "y_train=y_train.values.reshape(len(y_train),)\n",
    "y_test=y_test.values.reshape(len(y_test),)"
   ]
  },
  {
   "cell_type": "code",
   "execution_count": 16,
   "metadata": {},
   "outputs": [
    {
     "data": {
      "text/plain": [
       "PCA()"
      ]
     },
     "execution_count": 16,
     "metadata": {},
     "output_type": "execute_result"
    }
   ],
   "source": [
    "# Perform PCA on scaled data\n",
    "pca=PCA()\n",
    "pca.fit(x_train_scaled)"
   ]
  },
  {
   "cell_type": "code",
   "execution_count": 17,
   "metadata": {},
   "outputs": [
    {
     "name": "stdout",
     "output_type": "stream",
     "text": [
      "[0.04706383 0.08986195 0.11778187 0.14299055 0.16662583 0.18935604\n",
      " 0.21208337 0.2348107  0.25753803 0.28026536 0.30299269 0.32413372\n",
      " 0.34437346 0.36425438 0.38408804 0.40343864 0.42225016 0.44072066\n",
      " 0.45895319 0.47662308 0.49313377 0.50835979 0.52351332 0.53792873\n",
      " 0.55177291 0.56471777 0.5775296  0.58957772 0.59990168 0.60998765\n",
      " 0.61965265 0.62906325 0.63821154 0.64661659 0.65469883 0.66266717\n",
      " 0.67056661 0.67843725 0.68610624 0.69369595 0.70127457 0.70885108\n",
      " 0.71642695 0.72400276 0.73157855 0.73915434 0.74673013 0.75430591\n",
      " 0.76188168 0.76945746 0.77703324 0.78460901 0.79218479 0.79976057\n",
      " 0.80733634 0.81491212 0.8224879  0.83006367 0.83763945 0.84521523\n",
      " 0.852791   0.86036678 0.86794255 0.87551833 0.88309411 0.89066988\n",
      " 0.8982448  0.90581125 0.91332167 0.92070405 0.92793982 0.93505656\n",
      " 0.9418     0.94687458 0.95172236 0.95592208 0.96004638 0.96379312\n",
      " 0.96747906 0.97098501 0.97426185 0.97751505 0.98041122 0.98330485\n",
      " 0.98605495 0.98876006 0.99121719 0.99364309 0.99538529 0.99702638\n",
      " 0.99821958 0.99877966 0.99919432 0.99957354 0.9997656  0.99987871\n",
      " 0.99997647 0.99998999 0.99999516 0.9999999  1.         1.\n",
      " 1.         1.         1.         1.         1.         1.\n",
      " 1.         1.         1.         1.         1.         1.\n",
      " 1.         1.         1.         1.         1.         1.\n",
      " 1.         1.         1.         1.         1.         1.\n",
      " 1.         1.         1.         1.         1.         1.\n",
      " 1.        ]\n"
     ]
    }
   ],
   "source": [
    "# Examine cumulative proportion of variance explained\n",
    "print(pca.explained_variance_ratio_.cumsum())"
   ]
  },
  {
   "cell_type": "code",
   "execution_count": 18,
   "metadata": {},
   "outputs": [
    {
     "name": "stdout",
     "output_type": "stream",
     "text": [
      "# Components to explain 99% of variance: 86\n"
     ]
    }
   ],
   "source": [
    "num_components=np.argmax(pca.explained_variance_ratio_.cumsum()>=0.99)\n",
    "print('# Components to explain 99% of variance:',num_components)"
   ]
  },
  {
   "cell_type": "code",
   "execution_count": 19,
   "metadata": {},
   "outputs": [
    {
     "name": "stdout",
     "output_type": "stream",
     "text": [
      "(402542, 86)\n",
      "(172519, 86)\n"
     ]
    }
   ],
   "source": [
    "# Get component scores for train/test sets\n",
    "x_train_scores=pca.transform(x_train_scaled)[:,:num_components]\n",
    "x_test_scores=pca.transform(x_test_scaled)[:,:num_components]\n",
    "print(x_train_scores.shape)\n",
    "print(x_test_scores.shape)"
   ]
  },
  {
   "cell_type": "code",
   "execution_count": 21,
   "metadata": {},
   "outputs": [],
   "source": [
    "# Perform logistic regression on component scores\n",
    "logistic_regressor=LogisticRegression(max_iter=1000).fit(x_train_scores,y_train)"
   ]
  },
  {
   "cell_type": "code",
   "execution_count": 22,
   "metadata": {},
   "outputs": [
    {
     "data": {
      "text/plain": [
       "array([281], dtype=int32)"
      ]
     },
     "execution_count": 22,
     "metadata": {},
     "output_type": "execute_result"
    }
   ],
   "source": [
    "logistic_regressor.n_iter_"
   ]
  },
  {
   "cell_type": "code",
   "execution_count": 23,
   "metadata": {},
   "outputs": [
    {
     "name": "stdout",
     "output_type": "stream",
     "text": [
      "Train logloss: 0.029687974203607463\n",
      "Train accuracy: 0.9991404623616914\n",
      "Train recall: 0.9960970643135924\n",
      "Train precision: 0.9750830564784053\n",
      "\n",
      "\n",
      "Test logloss: 0.009009137176562834\n",
      "Test accuracy: 0.9997391591650775\n",
      "Test recall: 0.9916864608076009\n",
      "Test precision: 0.9994015559545183\n"
     ]
    }
   ],
   "source": [
    "# Compute training metrics\n",
    "print('Train logloss:',metrics.log_loss(y_train,logistic_regressor.predict(x_train_scores)))\n",
    "print('Train accuracy:',metrics.accuracy_score(y_train,logistic_regressor.predict(x_train_scores)))\n",
    "print('Train recall:',metrics.recall_score(y_train,logistic_regressor.predict(x_train_scores)))\n",
    "print('Train precision:',metrics.precision_score(y_train,logistic_regressor.predict(x_train_scores)))\n",
    "print('\\n')\n",
    "print('Test logloss:',metrics.log_loss(y_test,logistic_regressor.predict(x_test_scores)))\n",
    "print('Test accuracy:',metrics.accuracy_score(y_test,logistic_regressor.predict(x_test_scores)))\n",
    "print('Test recall:',metrics.recall_score(y_test,logistic_regressor.predict(x_test_scores)))\n",
    "print('Test precision:',metrics.precision_score(y_test,logistic_regressor.predict(x_test_scores)))"
   ]
  },
  {
   "cell_type": "markdown",
   "metadata": {},
   "source": [
    "## DECISION TREES\n"
   ]
  },
  {
   "cell_type": "code",
   "execution_count": 24,
   "metadata": {},
   "outputs": [],
   "source": [
    "from sklearn import tree\n",
    "clf = tree.DecisionTreeClassifier()\n",
    "clf = clf.fit(x_train_scores,y_train)"
   ]
  },
  {
   "cell_type": "code",
   "execution_count": 25,
   "metadata": {},
   "outputs": [
    {
     "data": {
      "text/plain": [
       "[Text(238.5123046875, 209.07692307692307, 'X[12] <= 0.014\\ngini = 0.057\\nsamples = 402542\\nvalue = [390756, 11786]'),\n",
       " Text(177.099609375, 192.35076923076923, 'X[77] <= -0.144\\ngini = 0.02\\nsamples = 394659\\nvalue = [390731, 3928]'),\n",
       " Text(106.58671875, 175.62461538461537, 'X[83] <= -0.003\\ngini = 0.225\\nsamples = 3873\\nvalue = [501, 3372]'),\n",
       " Text(72.36562500000001, 158.89846153846153, 'X[46] <= 0.0\\ngini = 0.025\\nsamples = 400\\nvalue = [395, 5]'),\n",
       " Text(65.390625, 142.1723076923077, 'gini = 0.0\\nsamples = 5\\nvalue = [0, 5]'),\n",
       " Text(79.340625, 142.1723076923077, 'gini = 0.0\\nsamples = 395\\nvalue = [395, 0]'),\n",
       " Text(140.8078125, 158.89846153846153, 'X[68] <= -0.584\\ngini = 0.059\\nsamples = 3473\\nvalue = [106, 3367]'),\n",
       " Text(93.290625, 142.1723076923077, 'X[24] <= 0.618\\ngini = 0.037\\nsamples = 3413\\nvalue = [65, 3348]'),\n",
       " Text(54.056250000000006, 125.44615384615385, 'X[40] <= 0.047\\ngini = 0.027\\nsamples = 3372\\nvalue = [47, 3325]'),\n",
       " Text(20.925, 108.72, 'X[46] <= 0.0\\ngini = 0.231\\nsamples = 150\\nvalue = [20, 130]'),\n",
       " Text(13.950000000000001, 91.99384615384615, 'X[14] <= 0.011\\ngini = 0.071\\nsamples = 135\\nvalue = [5, 130]'),\n",
       " Text(6.9750000000000005, 75.2676923076923, 'gini = 0.0\\nsamples = 74\\nvalue = [0, 74]'),\n",
       " Text(20.925, 75.2676923076923, 'X[74] <= -0.026\\ngini = 0.15\\nsamples = 61\\nvalue = [5, 56]'),\n",
       " Text(13.950000000000001, 58.541538461538465, 'X[35] <= -0.03\\ngini = 0.124\\nsamples = 60\\nvalue = [4, 56]'),\n",
       " Text(6.9750000000000005, 41.81538461538463, 'gini = 0.0\\nsamples = 1\\nvalue = [0, 1]'),\n",
       " Text(20.925, 41.81538461538463, 'gini = 0.126\\nsamples = 59\\nvalue = [4, 55]'),\n",
       " Text(27.900000000000002, 58.541538461538465, 'gini = 0.0\\nsamples = 1\\nvalue = [1, 0]'),\n",
       " Text(27.900000000000002, 91.99384615384615, 'gini = 0.0\\nsamples = 15\\nvalue = [15, 0]'),\n",
       " Text(87.1875, 108.72, 'X[46] <= 0.001\\ngini = 0.017\\nsamples = 3222\\nvalue = [27, 3195]'),\n",
       " Text(80.2125, 91.99384615384615, 'X[38] <= 0.179\\ngini = 0.015\\nsamples = 3220\\nvalue = [25, 3195]'),\n",
       " Text(55.800000000000004, 75.2676923076923, 'X[24] <= -0.617\\ngini = 0.001\\nsamples = 2880\\nvalue = [2, 2878]'),\n",
       " Text(41.85, 58.541538461538465, 'X[46] <= -0.0\\ngini = 0.444\\nsamples = 3\\nvalue = [1, 2]'),\n",
       " Text(34.875, 41.81538461538463, 'gini = 0.0\\nsamples = 2\\nvalue = [0, 2]'),\n",
       " Text(48.825, 41.81538461538463, 'gini = 0.0\\nsamples = 1\\nvalue = [1, 0]'),\n",
       " Text(69.75, 58.541538461538465, 'X[45] <= 0.001\\ngini = 0.001\\nsamples = 2877\\nvalue = [1, 2876]'),\n",
       " Text(62.775000000000006, 41.81538461538463, 'gini = 0.0\\nsamples = 2874\\nvalue = [0, 2874]'),\n",
       " Text(76.72500000000001, 41.81538461538463, 'X[78] <= 0.247\\ngini = 0.444\\nsamples = 3\\nvalue = [1, 2]'),\n",
       " Text(69.75, 25.089230769230767, 'gini = 0.0\\nsamples = 1\\nvalue = [1, 0]'),\n",
       " Text(83.7, 25.089230769230767, 'gini = 0.0\\nsamples = 2\\nvalue = [0, 2]'),\n",
       " Text(104.62500000000001, 75.2676923076923, 'X[73] <= 0.036\\ngini = 0.126\\nsamples = 340\\nvalue = [23, 317]'),\n",
       " Text(97.65, 58.541538461538465, 'gini = 0.0\\nsamples = 4\\nvalue = [4, 0]'),\n",
       " Text(111.60000000000001, 58.541538461538465, 'X[17] <= 0.129\\ngini = 0.107\\nsamples = 336\\nvalue = [19, 317]'),\n",
       " Text(104.62500000000001, 41.81538461538463, 'X[11] <= -1.115\\ngini = 0.135\\nsamples = 262\\nvalue = [19, 243]'),\n",
       " Text(97.65, 25.089230769230767, 'gini = 0.0\\nsamples = 1\\nvalue = [1, 0]'),\n",
       " Text(111.60000000000001, 25.089230769230767, 'X[70] <= 0.247\\ngini = 0.128\\nsamples = 261\\nvalue = [18, 243]'),\n",
       " Text(104.62500000000001, 8.363076923076932, 'gini = 0.111\\nsamples = 119\\nvalue = [7, 112]'),\n",
       " Text(118.575, 8.363076923076932, 'gini = 0.143\\nsamples = 142\\nvalue = [11, 131]'),\n",
       " Text(118.575, 41.81538461538463, 'gini = 0.0\\nsamples = 74\\nvalue = [0, 74]'),\n",
       " Text(94.16250000000001, 91.99384615384615, 'gini = 0.0\\nsamples = 2\\nvalue = [2, 0]'),\n",
       " Text(132.525, 125.44615384615385, 'X[25] <= -3.882\\ngini = 0.493\\nsamples = 41\\nvalue = [18, 23]'),\n",
       " Text(125.55000000000001, 108.72, 'gini = 0.0\\nsamples = 5\\nvalue = [5, 0]'),\n",
       " Text(139.5, 108.72, 'X[37] <= -0.273\\ngini = 0.461\\nsamples = 36\\nvalue = [13, 23]'),\n",
       " Text(132.525, 91.99384615384615, 'gini = 0.0\\nsamples = 6\\nvalue = [0, 6]'),\n",
       " Text(146.47500000000002, 91.99384615384615, 'X[79] <= 0.09\\ngini = 0.491\\nsamples = 30\\nvalue = [13, 17]'),\n",
       " Text(139.5, 75.2676923076923, 'gini = 0.0\\nsamples = 2\\nvalue = [2, 0]'),\n",
       " Text(153.45000000000002, 75.2676923076923, 'X[21] <= -0.155\\ngini = 0.477\\nsamples = 28\\nvalue = [11, 17]'),\n",
       " Text(139.5, 58.541538461538465, 'X[33] <= 3.133\\ngini = 0.5\\nsamples = 10\\nvalue = [5, 5]'),\n",
       " Text(132.525, 41.81538461538463, 'gini = 0.444\\nsamples = 3\\nvalue = [2, 1]'),\n",
       " Text(146.47500000000002, 41.81538461538463, 'gini = 0.49\\nsamples = 7\\nvalue = [3, 4]'),\n",
       " Text(167.4, 58.541538461538465, 'X[78] <= -0.1\\ngini = 0.444\\nsamples = 18\\nvalue = [6, 12]'),\n",
       " Text(160.425, 41.81538461538463, 'gini = 0.469\\nsamples = 8\\nvalue = [3, 5]'),\n",
       " Text(174.375, 41.81538461538463, 'gini = 0.42\\nsamples = 10\\nvalue = [3, 7]'),\n",
       " Text(188.32500000000002, 142.1723076923077, 'X[34] <= 0.55\\ngini = 0.433\\nsamples = 60\\nvalue = [41, 19]'),\n",
       " Text(181.35000000000002, 125.44615384615385, 'X[39] <= -0.089\\ngini = 0.236\\nsamples = 22\\nvalue = [3, 19]'),\n",
       " Text(167.4, 108.72, 'X[46] <= 0.002\\ngini = 0.444\\nsamples = 3\\nvalue = [2, 1]'),\n",
       " Text(160.425, 91.99384615384615, 'gini = 0.0\\nsamples = 2\\nvalue = [2, 0]'),\n",
       " Text(174.375, 91.99384615384615, 'gini = 0.0\\nsamples = 1\\nvalue = [0, 1]'),\n",
       " Text(195.3, 108.72, 'X[81] <= -0.818\\ngini = 0.1\\nsamples = 19\\nvalue = [1, 18]'),\n",
       " Text(188.32500000000002, 91.99384615384615, 'gini = 0.5\\nsamples = 2\\nvalue = [1, 1]'),\n",
       " Text(202.275, 91.99384615384615, 'gini = 0.0\\nsamples = 17\\nvalue = [0, 17]'),\n",
       " Text(195.3, 125.44615384615385, 'gini = 0.0\\nsamples = 38\\nvalue = [38, 0]'),\n",
       " Text(247.6125, 175.62461538461537, 'X[33] <= 1.57\\ngini = 0.003\\nsamples = 390786\\nvalue = [390230, 556]'),\n",
       " Text(230.175, 158.89846153846153, 'X[69] <= -0.126\\ngini = 0.0\\nsamples = 390232\\nvalue = [390208, 24]'),\n",
       " Text(216.22500000000002, 142.1723076923077, 'X[72] <= 32.846\\ngini = 0.227\\nsamples = 23\\nvalue = [3, 20]'),\n",
       " Text(209.25000000000003, 125.44615384615385, 'gini = 0.0\\nsamples = 20\\nvalue = [0, 20]'),\n",
       " Text(223.20000000000002, 125.44615384615385, 'gini = 0.0\\nsamples = 3\\nvalue = [3, 0]'),\n",
       " Text(244.12500000000003, 142.1723076923077, 'X[19] <= -169.037\\ngini = 0.0\\nsamples = 390209\\nvalue = [390205, 4]'),\n",
       " Text(237.15, 125.44615384615385, 'gini = 0.0\\nsamples = 1\\nvalue = [0, 1]'),\n",
       " Text(251.10000000000002, 125.44615384615385, 'X[34] <= -3.16\\ngini = 0.0\\nsamples = 390208\\nvalue = [390205, 3]'),\n",
       " Text(244.12500000000003, 108.72, 'gini = 0.03\\nsamples = 200\\nvalue = [197, 3]'),\n",
       " Text(258.07500000000005, 108.72, 'gini = 0.0\\nsamples = 390008\\nvalue = [390008, 0]'),\n",
       " Text(265.05, 158.89846153846153, 'X[16] <= 0.245\\ngini = 0.076\\nsamples = 554\\nvalue = [22, 532]'),\n",
       " Text(258.07500000000005, 142.1723076923077, 'gini = 0.0\\nsamples = 531\\nvalue = [0, 531]'),\n",
       " Text(272.02500000000003, 142.1723076923077, 'X[20] <= -0.284\\ngini = 0.083\\nsamples = 23\\nvalue = [22, 1]'),\n",
       " Text(265.05, 125.44615384615385, 'gini = 0.0\\nsamples = 1\\nvalue = [0, 1]'),\n",
       " Text(279.0, 125.44615384615385, 'gini = 0.0\\nsamples = 22\\nvalue = [22, 0]'),\n",
       " Text(299.925, 192.35076923076923, 'X[3] <= 10.544\\ngini = 0.006\\nsamples = 7883\\nvalue = [25, 7858]'),\n",
       " Text(285.975, 175.62461538461537, 'X[71] <= 149.999\\ngini = 0.001\\nsamples = 7851\\nvalue = [3, 7848]'),\n",
       " Text(279.0, 158.89846153846153, 'gini = 0.0\\nsamples = 7848\\nvalue = [0, 7848]'),\n",
       " Text(292.95000000000005, 158.89846153846153, 'gini = 0.0\\nsamples = 3\\nvalue = [3, 0]'),\n",
       " Text(313.875, 175.62461538461537, 'X[46] <= -0.006\\ngini = 0.43\\nsamples = 32\\nvalue = [22, 10]'),\n",
       " Text(306.90000000000003, 158.89846153846153, 'gini = 0.0\\nsamples = 8\\nvalue = [0, 8]'),\n",
       " Text(320.85, 158.89846153846153, 'X[25] <= -12.486\\ngini = 0.153\\nsamples = 24\\nvalue = [22, 2]'),\n",
       " Text(313.875, 142.1723076923077, 'X[82] <= -0.572\\ngini = 0.444\\nsamples = 3\\nvalue = [1, 2]'),\n",
       " Text(306.90000000000003, 125.44615384615385, 'gini = 0.0\\nsamples = 1\\nvalue = [1, 0]'),\n",
       " Text(320.85, 125.44615384615385, 'gini = 0.0\\nsamples = 2\\nvalue = [0, 2]'),\n",
       " Text(327.82500000000005, 142.1723076923077, 'gini = 0.0\\nsamples = 21\\nvalue = [21, 0]')]"
      ]
     },
     "execution_count": 25,
     "metadata": {},
     "output_type": "execute_result"
    },
    {
     "data": {
      "image/png": "[encoded data removed]",
      "text/plain": [
       "<Figure size 432x288 with 1 Axes>"
      ]
     },
     "metadata": {
      "needs_background": "light"
     },
     "output_type": "display_data"
    }
   ],
   "source": [
    "tree.plot_tree(clf)"
   ]
  },
  {
   "cell_type": "code",
   "execution_count": 26,
   "metadata": {},
   "outputs": [],
   "source": [
    "import graphviz \n",
    "dot_data = tree.export_graphviz(clf, out_file=None) \n",
    "graph = graphviz.Source(dot_data)"
   ]
  },
  {
   "cell_type": "code",
   "execution_count": 28,
   "metadata": {},
   "outputs": [
    {
     "data": {
      "text/plain": [
       "0.0030889217466438844"
      ]
     },
     "execution_count": 28,
     "metadata": {},
     "output_type": "execute_result"
    }
   ],
   "source": [
    "metrics.log_loss(y_train,clf.predict(x_train_scores))"
   ]
  },
  {
   "cell_type": "code",
   "execution_count": 29,
   "metadata": {},
   "outputs": [
    {
     "name": "stdout",
     "output_type": "stream",
     "text": [
      "Train logloss: 0.0030889217466438844\n",
      "Train accuracy: 0.9999105683382107\n",
      "Train recall: 0.9995757678601731\n",
      "Train precision: 0.9973755502878429\n",
      "\n",
      "\n",
      "Test logloss: 0.002002036663463964\n",
      "Test accuracy: 0.9999420353700172\n",
      "Test recall: 0.9984164687252574\n",
      "Test precision: 0.9996036464526358\n"
     ]
    }
   ],
   "source": [
    "# Compute training metrics - Decision Tree classifier\n",
    "print('Train logloss:',metrics.log_loss(y_train,clf.predict(x_train_scores)))\n",
    "print('Train accuracy:',metrics.accuracy_score(y_train,clf.predict(x_train_scores)))\n",
    "print('Train recall:',metrics.recall_score(y_train,clf.predict(x_train_scores)))\n",
    "print('Train precision:',metrics.precision_score(y_train,clf.predict(x_train_scores)))\n",
    "print('\\n')\n",
    "print('Test logloss:',metrics.log_loss(y_test,clf.predict(x_test_scores)))\n",
    "print('Test accuracy:',metrics.accuracy_score(y_test,clf.predict(x_test_scores)))\n",
    "print('Test recall:',metrics.recall_score(y_test,clf.predict(x_test_scores)))\n",
    "print('Test precision:',metrics.precision_score(y_test,clf.predict(x_test_scores)))"
   ]
  },
  {
   "cell_type": "code",
   "execution_count": null,
   "metadata": {},
   "outputs": [],
   "source": []
  }
 ],
 "metadata": {
  "kernelspec": {
   "display_name": "Python 3",
   "language": "python",
   "name": "python3"
  },
  "language_info": {
   "codemirror_mode": {
    "name": "ipython",
    "version": 3
   },
   "file_extension": ".py",
   "mimetype": "text/x-python",
   "name": "python",
   "nbconvert_exporter": "python",
   "pygments_lexer": "ipython3",
   "version": "3.8.3"
  }
 },
 "nbformat": 4,
 "nbformat_minor": 5
}
