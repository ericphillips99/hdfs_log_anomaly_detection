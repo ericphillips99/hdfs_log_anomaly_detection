{
 "cells": [
  {
   "cell_type": "code",
   "execution_count": 17,
   "id": "3eb11f8b",
   "metadata": {},
   "outputs": [],
   "source": [
    "import pandas as pd\n",
    "import numpy as np\n",
    "from sklearn import preprocessing\n",
    "from sklearn.decomposition import PCA\n",
    "from sklearn.linear_model import LogisticRegression\n",
    "from sklearn import metrics"
   ]
  },
  {
   "cell_type": "code",
   "execution_count": 2,
   "id": "97163b1c",
   "metadata": {},
   "outputs": [],
   "source": [
    "pd.set_option('display.float_format', lambda x: '%.6f' % x)"
   ]
  },
  {
   "cell_type": "code",
   "execution_count": 3,
   "id": "a4bde6e7",
   "metadata": {},
   "outputs": [],
   "source": [
    "x_train=pd.read_csv('../processed_data/x_train.csv',header=None)\n",
    "y_train=pd.read_csv('../processed_data/y_train.csv',header=None)\n",
    "\n",
    "x_test=pd.read_csv('../processed_data/x_test.csv',header=None)\n",
    "y_test=pd.read_csv('../processed_data/y_test.csv',header=None)"
   ]
  },
  {
   "cell_type": "code",
   "execution_count": 25,
   "id": "8883110b",
   "metadata": {},
   "outputs": [
    {
     "name": "stdout",
     "output_type": "stream",
     "text": [
      "Train percent anamolies: 2.93%\n",
      "Test percent anamolies: 2.93%\n"
     ]
    }
   ],
   "source": [
    "print('Train percent anamolies:',str(np.round(y_train.mean(),4)*100)+'%')\n",
    "print('Test percent anamolies:',str(np.round(y_test.mean(),4)*100)+'%')"
   ]
  },
  {
   "cell_type": "code",
   "execution_count": 4,
   "id": "d6aede81",
   "metadata": {},
   "outputs": [
    {
     "data": {
      "text/plain": [
       "0        0.005352\n",
       "1        0.005352\n",
       "2        0.005352\n",
       "3        0.054950\n",
       "4        0.017573\n",
       "           ...   \n",
       "402537   0.054950\n",
       "402538   0.076839\n",
       "402539   0.005352\n",
       "402540   0.017573\n",
       "402541   0.005352\n",
       "Length: 402542, dtype: float64"
      ]
     },
     "execution_count": 4,
     "metadata": {},
     "output_type": "execute_result"
    }
   ],
   "source": [
    "x_train.apply(np.mean,axis=1)"
   ]
  },
  {
   "cell_type": "code",
   "execution_count": 5,
   "id": "7020cfb3",
   "metadata": {},
   "outputs": [
    {
     "data": {
      "text/plain": [
       "0        0.001403\n",
       "1        0.001403\n",
       "2        0.001403\n",
       "3        0.125333\n",
       "4        0.020988\n",
       "           ...   \n",
       "402537   0.125333\n",
       "402538   0.335375\n",
       "402539   0.001403\n",
       "402540   0.020988\n",
       "402541   0.001403\n",
       "Length: 402542, dtype: float64"
      ]
     },
     "execution_count": 5,
     "metadata": {},
     "output_type": "execute_result"
    }
   ],
   "source": [
    "x_train.apply(np.var,axis=1)"
   ]
  },
  {
   "cell_type": "code",
   "execution_count": 6,
   "id": "f51d6443",
   "metadata": {},
   "outputs": [
    {
     "name": "stdout",
     "output_type": "stream",
     "text": [
      "Train mean: 0.0075187969924811185\n",
      "Test mean: -0.01743165085141406\n",
      "Train std: 0.9924812030075186\n",
      "Test std: 0.5746919839962779\n"
     ]
    }
   ],
   "source": [
    "## Perform standardization\n",
    "\n",
    "# Fit StandardScaler on training set\n",
    "scaler=preprocessing.StandardScaler().fit(x_train)\n",
    "\n",
    "# Apply standardization to train/test sets\n",
    "x_train_scaled=scaler.transform(x_train)\n",
    "x_test_scaled=scaler.transform(x_test)\n",
    "\n",
    "# Confirm that resulting data has zero mean and unit variance\n",
    "print('Train mean:',x_train_scaled.mean(axis=0).mean())\n",
    "print('Test mean:',x_test_scaled.mean(axis=0).mean())\n",
    "\n",
    "print('Train std:',x_train_scaled.std(axis=0).mean())\n",
    "print('Test std:',x_test_scaled.std(axis=0).mean())"
   ]
  },
  {
   "cell_type": "code",
   "execution_count": 7,
   "id": "de0a1e85",
   "metadata": {},
   "outputs": [],
   "source": [
    "# Reshape y datasets\n",
    "y_train=y_train.values.reshape(len(y_train),)\n",
    "y_test=y_test.values.reshape(len(y_test),)"
   ]
  },
  {
   "cell_type": "code",
   "execution_count": 8,
   "id": "0580b23d",
   "metadata": {},
   "outputs": [
    {
     "data": {
      "text/plain": [
       "PCA()"
      ]
     },
     "execution_count": 8,
     "metadata": {},
     "output_type": "execute_result"
    }
   ],
   "source": [
    "# Perform PCA on scaled data\n",
    "pca=PCA()\n",
    "pca.fit(x_train_scaled)"
   ]
  },
  {
   "cell_type": "code",
   "execution_count": 9,
   "id": "27e122a4",
   "metadata": {},
   "outputs": [
    {
     "name": "stdout",
     "output_type": "stream",
     "text": [
      "[0.04706383 0.08986195 0.11778187 0.14299055 0.16662583 0.18935604\n",
      " 0.21208337 0.2348107  0.25753803 0.28026536 0.30299269 0.32413372\n",
      " 0.34437346 0.36425438 0.38408804 0.40343864 0.42225016 0.44072066\n",
      " 0.45895319 0.47662308 0.49313377 0.50835979 0.52351332 0.53792873\n",
      " 0.55177291 0.56471777 0.5775296  0.58957772 0.59990168 0.60998765\n",
      " 0.61965265 0.62906325 0.63821154 0.64661659 0.65469883 0.66266717\n",
      " 0.67056661 0.67843725 0.68610624 0.69369595 0.70127457 0.70885108\n",
      " 0.71642695 0.72400276 0.73157855 0.73915434 0.74673013 0.75430591\n",
      " 0.76188168 0.76945746 0.77703324 0.78460901 0.79218479 0.79976057\n",
      " 0.80733634 0.81491212 0.8224879  0.83006367 0.83763945 0.84521523\n",
      " 0.852791   0.86036678 0.86794255 0.87551833 0.88309411 0.89066988\n",
      " 0.8982448  0.90581125 0.91332167 0.92070405 0.92793982 0.93505656\n",
      " 0.9418     0.94687458 0.95172236 0.95592208 0.96004638 0.96379312\n",
      " 0.96747906 0.97098501 0.97426185 0.97751505 0.98041122 0.98330485\n",
      " 0.98605495 0.98876006 0.99121719 0.99364309 0.99538529 0.99702638\n",
      " 0.99821958 0.99877966 0.99919432 0.99957354 0.9997656  0.99987871\n",
      " 0.99997647 0.99998999 0.99999516 0.9999999  1.         1.\n",
      " 1.         1.         1.         1.         1.         1.\n",
      " 1.         1.         1.         1.         1.         1.\n",
      " 1.         1.         1.         1.         1.         1.\n",
      " 1.         1.         1.         1.         1.         1.\n",
      " 1.         1.         1.         1.         1.         1.\n",
      " 1.        ]\n"
     ]
    }
   ],
   "source": [
    "# Examine cumulative proportion of variance explained\n",
    "print(pca.explained_variance_ratio_.cumsum())"
   ]
  },
  {
   "cell_type": "code",
   "execution_count": 10,
   "id": "3fb17dcd",
   "metadata": {},
   "outputs": [
    {
     "name": "stdout",
     "output_type": "stream",
     "text": [
      "# Components to explain 99% of variance: 86\n"
     ]
    }
   ],
   "source": [
    "num_components=np.argmax(pca.explained_variance_ratio_.cumsum()>=0.99)\n",
    "print('# Components to explain 99% of variance:',num_components)"
   ]
  },
  {
   "cell_type": "code",
   "execution_count": 11,
   "id": "69c19c30",
   "metadata": {},
   "outputs": [
    {
     "name": "stdout",
     "output_type": "stream",
     "text": [
      "(402542, 86)\n",
      "(172519, 86)\n"
     ]
    }
   ],
   "source": [
    "# Get component scores for train/test sets\n",
    "x_train_scores=pca.transform(x_train_scaled)[:,:num_components]\n",
    "x_test_scores=pca.transform(x_test_scaled)[:,:num_components]\n",
    "print(x_train_scores.shape)\n",
    "print(x_test_scores.shape)"
   ]
  },
  {
   "cell_type": "code",
   "execution_count": 13,
   "id": "db5dba6a",
   "metadata": {},
   "outputs": [],
   "source": [
    "# Perform logistic regression on component scores\n",
    "logistic_regressor=LogisticRegression(max_iter=1000).fit(x_train_scores,y_train)"
   ]
  },
  {
   "cell_type": "code",
   "execution_count": 14,
   "id": "e4b9d412",
   "metadata": {},
   "outputs": [
    {
     "data": {
      "text/plain": [
       "array([311], dtype=int32)"
      ]
     },
     "execution_count": 14,
     "metadata": {},
     "output_type": "execute_result"
    }
   ],
   "source": [
    "logistic_regressor.n_iter_"
   ]
  },
  {
   "cell_type": "code",
   "execution_count": 26,
   "id": "e2e0288f",
   "metadata": {},
   "outputs": [
    {
     "name": "stdout",
     "output_type": "stream",
     "text": [
      "Train logloss: 0.029687974203607456\n",
      "Train accuracy: 0.9991404623616914\n",
      "Train recall: 0.9960970643135924\n",
      "Train precision: 0.9750830564784053\n",
      "\n",
      "\n",
      "Test logloss: 0.009009137176562834\n",
      "Test accuracy: 0.9997391591650775\n",
      "Test recall: 0.9916864608076009\n",
      "Test precision: 0.9994015559545183\n"
     ]
    }
   ],
   "source": [
    "# Compute training metrics\n",
    "print('Train logloss:',metrics.log_loss(y_train,logistic_regressor.predict(x_train_scores)))\n",
    "print('Train accuracy:',metrics.accuracy_score(y_train,logistic_regressor.predict(x_train_scores)))\n",
    "print('Train recall:',metrics.recall_score(y_train,logistic_regressor.predict(x_train_scores)))\n",
    "print('Train precision:',metrics.precision_score(y_train,logistic_regressor.predict(x_train_scores)))\n",
    "print('\\n')\n",
    "print('Test logloss:',metrics.log_loss(y_test,logistic_regressor.predict(x_test_scores)))\n",
    "print('Test accuracy:',metrics.accuracy_score(y_test,logistic_regressor.predict(x_test_scores)))\n",
    "print('Test recall:',metrics.recall_score(y_test,logistic_regressor.predict(x_test_scores)))\n",
    "print('Test precision:',metrics.precision_score(y_test,logistic_regressor.predict(x_test_scores)))"
   ]
  },
  {
   "cell_type": "code",
   "execution_count": null,
   "id": "17a76186",
   "metadata": {},
   "outputs": [],
   "source": []
  }
 ],
 "metadata": {
  "kernelspec": {
   "display_name": "Python 3",
   "language": "python",
   "name": "python3"
  },
  "language_info": {
   "codemirror_mode": {
    "name": "ipython",
    "version": 3
   },
   "file_extension": ".py",
   "mimetype": "text/x-python",
   "name": "python",
   "nbconvert_exporter": "python",
   "pygments_lexer": "ipython3",
   "version": "3.9.1"
  }
 },
 "nbformat": 4,
 "nbformat_minor": 5
}
