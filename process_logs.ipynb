{
 "cells": [
  {
   "cell_type": "code",
   "execution_count": 1,
   "id": "6aed9a6a",
   "metadata": {},
   "outputs": [],
   "source": [
    "from loglizer import dataloader, preprocessing\n",
    "import numpy as np"
   ]
  },
  {
   "cell_type": "code",
   "execution_count": 2,
   "id": "c0b849a8",
   "metadata": {},
   "outputs": [],
   "source": [
    "parsed_log='parsed_logs/HDFS.log_structured.csv'\n",
    "labels='anomaly_label.csv'"
   ]
  },
  {
   "cell_type": "code",
   "execution_count": 3,
   "id": "87741bad",
   "metadata": {},
   "outputs": [
    {
     "name": "stdout",
     "output_type": "stream",
     "text": [
      "====== Input data summary ======\n",
      "Loading parsed_logs/HDFS.log_structured.csv\n",
      "11786 5052\n",
      "Total: 575061 instances, 16838 anomaly, 558223 normal\n",
      "Train: 402542 instances, 11786 anomaly, 390756 normal\n",
      "Test: 172519 instances, 5052 anomaly, 167467 normal\n",
      "\n"
     ]
    }
   ],
   "source": [
    "# Load dataset\n",
    "(x_train_pre, y_train),(x_test_pre, y_test)=dataloader.load_HDFS(parsed_log,label_file=labels,window='session',train_ratio=0.7,split_type='uniform',save_csv=True)"
   ]
  },
  {
   "cell_type": "code",
   "execution_count": 4,
   "id": "d5151033",
   "metadata": {},
   "outputs": [],
   "source": [
    "# Define feature extractor\n",
    "feature_extractor=preprocessing.FeatureExtractor()"
   ]
  },
  {
   "cell_type": "code",
   "execution_count": 5,
   "id": "6a217cdc",
   "metadata": {},
   "outputs": [
    {
     "name": "stdout",
     "output_type": "stream",
     "text": [
      "====== Transformed train data summary ======\n",
      "Train data shape: 402542-by-133\n",
      "\n"
     ]
    }
   ],
   "source": [
    "# Perform feature extraction on training set\n",
    "x_train=feature_extractor.fit_transform(x_train_pre,term_weighting='tf-idf',normalization=None)"
   ]
  },
  {
   "cell_type": "code",
   "execution_count": 6,
   "id": "cdf5f508",
   "metadata": {},
   "outputs": [
    {
     "name": "stdout",
     "output_type": "stream",
     "text": [
      "tf-idf\n",
      "None\n"
     ]
    }
   ],
   "source": [
    "print(feature_extractor.term_weighting)\n",
    "print(feature_extractor.normalization)"
   ]
  },
  {
   "cell_type": "code",
   "execution_count": 7,
   "id": "fafec08e",
   "metadata": {},
   "outputs": [
    {
     "name": "stdout",
     "output_type": "stream",
     "text": [
      "====== Transformed test data summary ======\n",
      "Test data shape: 172519-by-133\n",
      "\n"
     ]
    }
   ],
   "source": [
    "# Perform feature extraction on test set\n",
    "x_test=feature_extractor.transform(x_test_pre)"
   ]
  },
  {
   "cell_type": "code",
   "execution_count": 8,
   "id": "d57bbbda",
   "metadata": {},
   "outputs": [
    {
     "name": "stdout",
     "output_type": "stream",
     "text": [
      "(402542, 133)\n",
      "(402542,)\n",
      "(172519, 133)\n",
      "(172519,)\n"
     ]
    }
   ],
   "source": [
    "print(x_train.shape)\n",
    "print(y_train.shape)\n",
    "print(x_test.shape)\n",
    "print(y_test.shape)"
   ]
  },
  {
   "cell_type": "code",
   "execution_count": 9,
   "id": "7581be14",
   "metadata": {},
   "outputs": [],
   "source": [
    "# Write processed data to CSVs\n",
    "output_dir='processed_data/'\n",
    "\n",
    "np.savetxt(output_dir+'x_train.csv',x_train,delimiter=',')\n",
    "np.savetxt(output_dir+'y_train.csv',y_train,delimiter=',')\n",
    "\n",
    "np.savetxt(output_dir+'x_test.csv',x_test,delimiter=',')\n",
    "np.savetxt(output_dir+'y_test.csv',y_test,delimiter=',')"
   ]
  },
  {
   "cell_type": "code",
   "execution_count": null,
   "id": "87366138",
   "metadata": {},
   "outputs": [],
   "source": []
  }
 ],
 "metadata": {
  "kernelspec": {
   "display_name": "Python 3",
   "language": "python",
   "name": "python3"
  },
  "language_info": {
   "codemirror_mode": {
    "name": "ipython",
    "version": 3
   },
   "file_extension": ".py",
   "mimetype": "text/x-python",
   "name": "python",
   "nbconvert_exporter": "python",
   "pygments_lexer": "ipython3",
   "version": "3.9.1"
  }
 },
 "nbformat": 4,
 "nbformat_minor": 5
}
