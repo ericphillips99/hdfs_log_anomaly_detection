{
 "cells": [
  {
   "cell_type": "code",
   "execution_count": 1,
   "id": "402d2ef8",
   "metadata": {},
   "outputs": [],
   "source": [
    "from loglizer import dataloader, preprocessing\n",
    "import numpy as np"
   ]
  },
  {
   "cell_type": "code",
   "execution_count": 2,
   "id": "af39b721",
   "metadata": {},
   "outputs": [],
   "source": [
    "parsed_log='parsed_logs/HDFS.log_structured.csv'\n",
    "labels='anomaly_label.csv'"
   ]
  },
  {
   "cell_type": "code",
   "execution_count": null,
   "id": "1dbfeff7",
   "metadata": {},
   "outputs": [
    {
     "name": "stdout",
     "output_type": "stream",
     "text": [
      "====== Input data summary ======\n",
      "Loading parsed_logs/HDFS.log_structured.csv\n"
     ]
    }
   ],
   "source": [
    "# Load dataset\n",
    "(x_train_pre, y_train),(x_test_pre, y_test)=dataloader.load_HDFS(parsed_log,label_file=labels,window='session',train_ratio=0.7,split_type='uniform',save_csv=True)"
   ]
  },
  {
   "cell_type": "code",
   "execution_count": null,
   "id": "6a0ccd71",
   "metadata": {},
   "outputs": [],
   "source": [
    "# Define feature extractor\n",
    "feature_extractor=preprocessing.FeatureExtractor()"
   ]
  },
  {
   "cell_type": "code",
   "execution_count": null,
   "id": "90ba2fb1",
   "metadata": {},
   "outputs": [],
   "source": [
    "# Perform feature extraction on training set\n",
    "x_train=feature_extractor.fit_transform(x_train_pre,term_weighting='tf-idf',normalization='zero-mean')"
   ]
  },
  {
   "cell_type": "code",
   "execution_count": null,
   "id": "ee65d254",
   "metadata": {},
   "outputs": [],
   "source": [
    "print(feature_extractor.term_weighting)\n",
    "print(feature_extractor.normalization)"
   ]
  },
  {
   "cell_type": "code",
   "execution_count": null,
   "id": "68e9011d",
   "metadata": {},
   "outputs": [],
   "source": [
    "# Perform feature extraction on test set\n",
    "x_test=feature_extractor.transform(x_test_pre)"
   ]
  },
  {
   "cell_type": "code",
   "execution_count": null,
   "id": "dfdf213a",
   "metadata": {},
   "outputs": [],
   "source": [
    "print(x_train.shape)\n",
    "print(y_train.shape)\n",
    "print(x_test.shape)\n",
    "print(y_test.shape)"
   ]
  },
  {
   "cell_type": "code",
   "execution_count": null,
   "id": "da0fec7d",
   "metadata": {},
   "outputs": [],
   "source": [
    "# Write processed data to CSVs\n",
    "output_dir='processed_data/'\n",
    "\n",
    "np.savetxt(output_dir+'x_train.csv',x_train,delimiter=',')\n",
    "np.savetxt(output_dir+'y_train.csv',y_train,delimiter=',')\n",
    "\n",
    "np.savetxt(output_dir+'x_test.csv',x_test,delimiter=',')\n",
    "np.savetxt(output_dir+'y_test.csv',y_test,delimiter=',')"
   ]
  }
 ],
 "metadata": {
  "kernelspec": {
   "display_name": "Python 3",
   "language": "python",
   "name": "python3"
  },
  "language_info": {
   "codemirror_mode": {
    "name": "ipython",
    "version": 3
   },
   "file_extension": ".py",
   "mimetype": "text/x-python",
   "name": "python",
   "nbconvert_exporter": "python",
   "pygments_lexer": "ipython3",
   "version": "3.9.1"
  }
 },
 "nbformat": 4,
 "nbformat_minor": 5
}
